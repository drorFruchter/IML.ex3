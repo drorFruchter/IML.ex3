{
 "cells": [
  {
   "cell_type": "code",
   "id": "7f1e4125",
   "metadata": {
    "pycharm": {
     "name": "#%%\n"
    },
    "ExecuteTime": {
     "end_time": "2024-12-29T13:44:54.369432Z",
     "start_time": "2024-12-29T13:44:46.127377Z"
    }
   },
   "source": [
    "import numpy as np\n",
    "import torch\n",
    "from torch import nn\n",
    "from torch import optim\n",
    "import matplotlib.pyplot as plt"
   ],
   "outputs": [
    {
     "name": "stderr",
     "output_type": "stream",
     "text": [
      "\n",
      "A module that was compiled using NumPy 1.x cannot be run in\n",
      "NumPy 2.0.2 as it may crash. To support both 1.x and 2.x\n",
      "versions of NumPy, modules must be compiled with NumPy 2.0.\n",
      "Some module may need to rebuild instead e.g. with 'pybind11>=2.12'.\n",
      "\n",
      "If you are a user of the module, the easiest solution will be to\n",
      "downgrade to 'numpy<2' or try to upgrade the affected module.\n",
      "We expect that some modules will need time to support NumPy 2.\n",
      "\n",
      "Traceback (most recent call last):  File \"/Library/Developer/CommandLineTools/Library/Frameworks/Python3.framework/Versions/3.9/lib/python3.9/runpy.py\", line 197, in _run_module_as_main\n",
      "    return _run_code(code, main_globals, None,\n",
      "  File \"/Library/Developer/CommandLineTools/Library/Frameworks/Python3.framework/Versions/3.9/lib/python3.9/runpy.py\", line 87, in _run_code\n",
      "    exec(code, run_globals)\n",
      "  File \"/Users/admin/Library/Python/3.9/lib/python/site-packages/ipykernel_launcher.py\", line 18, in <module>\n",
      "    app.launch_new_instance()\n",
      "  File \"/Users/admin/Library/Python/3.9/lib/python/site-packages/traitlets/config/application.py\", line 1075, in launch_instance\n",
      "    app.start()\n",
      "  File \"/Users/admin/Library/Python/3.9/lib/python/site-packages/ipykernel/kernelapp.py\", line 739, in start\n",
      "    self.io_loop.start()\n",
      "  File \"/Users/admin/Library/Python/3.9/lib/python/site-packages/tornado/platform/asyncio.py\", line 205, in start\n",
      "    self.asyncio_loop.run_forever()\n",
      "  File \"/Library/Developer/CommandLineTools/Library/Frameworks/Python3.framework/Versions/3.9/lib/python3.9/asyncio/base_events.py\", line 596, in run_forever\n",
      "    self._run_once()\n",
      "  File \"/Library/Developer/CommandLineTools/Library/Frameworks/Python3.framework/Versions/3.9/lib/python3.9/asyncio/base_events.py\", line 1890, in _run_once\n",
      "    handle._run()\n",
      "  File \"/Library/Developer/CommandLineTools/Library/Frameworks/Python3.framework/Versions/3.9/lib/python3.9/asyncio/events.py\", line 80, in _run\n",
      "    self._context.run(self._callback, *self._args)\n",
      "  File \"/Users/admin/Library/Python/3.9/lib/python/site-packages/ipykernel/kernelbase.py\", line 545, in dispatch_queue\n",
      "    await self.process_one()\n",
      "  File \"/Users/admin/Library/Python/3.9/lib/python/site-packages/ipykernel/kernelbase.py\", line 534, in process_one\n",
      "    await dispatch(*args)\n",
      "  File \"/Users/admin/Library/Python/3.9/lib/python/site-packages/ipykernel/kernelbase.py\", line 437, in dispatch_shell\n",
      "    await result\n",
      "  File \"/Users/admin/Library/Python/3.9/lib/python/site-packages/ipykernel/ipkernel.py\", line 362, in execute_request\n",
      "    await super().execute_request(stream, ident, parent)\n",
      "  File \"/Users/admin/Library/Python/3.9/lib/python/site-packages/ipykernel/kernelbase.py\", line 778, in execute_request\n",
      "    reply_content = await reply_content\n",
      "  File \"/Users/admin/Library/Python/3.9/lib/python/site-packages/ipykernel/ipkernel.py\", line 449, in do_execute\n",
      "    res = shell.run_cell(\n",
      "  File \"/Users/admin/Library/Python/3.9/lib/python/site-packages/ipykernel/zmqshell.py\", line 549, in run_cell\n",
      "    return super().run_cell(*args, **kwargs)\n",
      "  File \"/Users/admin/Library/Python/3.9/lib/python/site-packages/IPython/core/interactiveshell.py\", line 3048, in run_cell\n",
      "    result = self._run_cell(\n",
      "  File \"/Users/admin/Library/Python/3.9/lib/python/site-packages/IPython/core/interactiveshell.py\", line 3103, in _run_cell\n",
      "    result = runner(coro)\n",
      "  File \"/Users/admin/Library/Python/3.9/lib/python/site-packages/IPython/core/async_helpers.py\", line 129, in _pseudo_sync_runner\n",
      "    coro.send(None)\n",
      "  File \"/Users/admin/Library/Python/3.9/lib/python/site-packages/IPython/core/interactiveshell.py\", line 3308, in run_cell_async\n",
      "    has_raised = await self.run_ast_nodes(code_ast.body, cell_name,\n",
      "  File \"/Users/admin/Library/Python/3.9/lib/python/site-packages/IPython/core/interactiveshell.py\", line 3490, in run_ast_nodes\n",
      "    if await self.run_code(code, result, async_=asy):\n",
      "  File \"/Users/admin/Library/Python/3.9/lib/python/site-packages/IPython/core/interactiveshell.py\", line 3550, in run_code\n",
      "    exec(code_obj, self.user_global_ns, self.user_ns)\n",
      "  File \"/var/folders/hd/4w1yylf952vcx4yt0v_f7gx00000gn/T/ipykernel_18882/2341920393.py\", line 2, in <module>\n",
      "    import torch\n",
      "  File \"/Users/admin/Library/Python/3.9/lib/python/site-packages/torch/__init__.py\", line 1477, in <module>\n",
      "    from .functional import *  # noqa: F403\n",
      "  File \"/Users/admin/Library/Python/3.9/lib/python/site-packages/torch/functional.py\", line 9, in <module>\n",
      "    import torch.nn.functional as F\n",
      "  File \"/Users/admin/Library/Python/3.9/lib/python/site-packages/torch/nn/__init__.py\", line 1, in <module>\n",
      "    from .modules import *  # noqa: F403\n",
      "  File \"/Users/admin/Library/Python/3.9/lib/python/site-packages/torch/nn/modules/__init__.py\", line 35, in <module>\n",
      "    from .transformer import TransformerEncoder, TransformerDecoder, \\\n",
      "  File \"/Users/admin/Library/Python/3.9/lib/python/site-packages/torch/nn/modules/transformer.py\", line 20, in <module>\n",
      "    device: torch.device = torch.device(torch._C._get_default_device()),  # torch.device('cpu'),\n",
      "/Users/admin/Library/Python/3.9/lib/python/site-packages/torch/nn/modules/transformer.py:20: UserWarning: Failed to initialize NumPy: _ARRAY_API not found (Triggered internally at /Users/runner/work/pytorch/pytorch/pytorch/torch/csrc/utils/tensor_numpy.cpp:84.)\n",
      "  device: torch.device = torch.device(torch._C._get_default_device()),  # torch.device('cpu'),\n"
     ]
    }
   ],
   "execution_count": 1
  },
  {
   "cell_type": "markdown",
   "id": "0a751fad",
   "metadata": {
    "heading_collapsed": true,
    "pycharm": {
     "name": "#%% md\n"
    }
   },
   "source": [
    "# Part 0: Seed"
   ]
  },
  {
   "cell_type": "code",
   "id": "8d0c0a33",
   "metadata": {
    "hidden": true,
    "pycharm": {
     "name": "#%%\n"
    },
    "ExecuteTime": {
     "end_time": "2024-12-29T13:45:11.309605Z",
     "start_time": "2024-12-29T13:45:11.264258Z"
    }
   },
   "source": [
    "torch.manual_seed(42)"
   ],
   "outputs": [
    {
     "data": {
      "text/plain": [
       "<torch._C.Generator at 0x103d4ad10>"
      ]
     },
     "execution_count": 2,
     "metadata": {},
     "output_type": "execute_result"
    }
   ],
   "execution_count": 2
  },
  {
   "cell_type": "markdown",
   "id": "5136bf69",
   "metadata": {
    "heading_collapsed": true,
    "pycharm": {
     "name": "#%% md\n"
    }
   },
   "source": [
    "# Part 1: Arrays operations just like NumPy"
   ]
  },
  {
   "cell_type": "code",
   "id": "44af4f9c",
   "metadata": {
    "hidden": true,
    "pycharm": {
     "name": "#%%\n"
    },
    "ExecuteTime": {
     "end_time": "2024-12-29T13:45:14.105423Z",
     "start_time": "2024-12-29T13:45:13.970505Z"
    }
   },
   "source": [
    "# More examples of array operations\n",
    "tens_1 = torch.arange(1, 6, dtype=torch.float32)\n",
    "tens_2 = torch.randint_like(tens_1, 1, 10)\n",
    "tens_3 = torch.linspace(1, 2, 5, dtype=torch.float32)\n",
    "mat_1 = torch.rand(3, 3)\n",
    "mat_2 = torch.rand(3, 3)\n",
    "\n",
    "# Exponentiation, logarithm, and element-wise square root\n",
    "\n",
    "c = torch.exp(tens_1)\n",
    "d = torch.log(tens_3)\n",
    "e = torch.sqrt(tens_1)\n",
    "e_2 = tens_1 ** 0.5\n",
    "is_close = torch.allclose(e, e_2)\n",
    "f = tens_1 ** 2\n",
    "g = tens_1 + tens_2\n",
    "h = tens_1 * tens_2\n",
    "i = mat_1 @ mat_2  # (matrix multiplication)\n",
    "j = mat_1 * mat_2  # (element-wise multiplication)\n",
    "k = mat_1 + mat_2  # (element-wise addition)\n",
    "\n",
    "print(\"Tensor a:\\n\\t\", tens_1)\n",
    "print(\"Tensor a_1\\n\\t:\", tens_2)\n",
    "print(\"Tensor b:\\n\\t\", tens_3)\n",
    "print(\"Matrix 1:\\n\\t\", mat_1)\n",
    "print(\"Matrix 2:\\n\\t\", mat_2)\n",
    "\n",
    "print(\"\\n\\n\\nExamples:\\n\")\n",
    "print(\"\\nComparison:\\n\\t\", tens_1 > 3)\n",
    "\n",
    "print(\"\\nExponentiation:\\n\\t\", c)\n",
    "print(\"\\nLogarithm:\\n\\t\", d)\n",
    "print(\"\\nSquare root:\\n\\t\", e)\n",
    "print(\"\\nAre the square roots equal?\\n\\t\", is_close)\n",
    "print(\"\\nElement-wise square:\\n\\t\", f)\n",
    "print(\"\\nElement-wise addition:\\n\\t\", g)\n",
    "print(\"\\nElement-wise multiplication:\\n\\t\", h)\n",
    "print(\"\\nMatrix multiplication:\\n\\t\", i)\n",
    "print(\"\\nElement-wise multiplication:\\n\\t\", j)\n",
    "print(\"\\nElement-wise addition:\\n\\t\", k)\n",
    "print(f\"\\n\\nDid you get the point? :)\")"
   ],
   "outputs": [
    {
     "name": "stdout",
     "output_type": "stream",
     "text": [
      "Tensor a:\n",
      "\t tensor([1., 2., 3., 4., 5.])\n",
      "Tensor a_1\n",
      "\t: tensor([7., 6., 8., 5., 1.])\n",
      "Tensor b:\n",
      "\t tensor([1.0000, 1.2500, 1.5000, 1.7500, 2.0000])\n",
      "Matrix 1:\n",
      "\t tensor([[0.6009, 0.2566, 0.7936],\n",
      "        [0.9408, 0.1332, 0.9346],\n",
      "        [0.5936, 0.8694, 0.5677]])\n",
      "Matrix 2:\n",
      "\t tensor([[0.7411, 0.4294, 0.8854],\n",
      "        [0.5739, 0.2666, 0.6274],\n",
      "        [0.2696, 0.4414, 0.2969]])\n",
      "\n",
      "\n",
      "\n",
      "Examples:\n",
      "\n",
      "\n",
      "Comparison:\n",
      "\t tensor([False, False, False,  True,  True])\n",
      "\n",
      "Exponentiation:\n",
      "\t tensor([  2.7183,   7.3891,  20.0855,  54.5982, 148.4132])\n",
      "\n",
      "Logarithm:\n",
      "\t tensor([0.0000, 0.2231, 0.4055, 0.5596, 0.6931])\n",
      "\n",
      "Square root:\n",
      "\t tensor([1.0000, 1.4142, 1.7321, 2.0000, 2.2361])\n",
      "\n",
      "Are the square roots equal?\n",
      "\t True\n",
      "\n",
      "Element-wise square:\n",
      "\t tensor([ 1.,  4.,  9., 16., 25.])\n",
      "\n",
      "Element-wise addition:\n",
      "\t tensor([ 8.,  8., 11.,  9.,  6.])\n",
      "\n",
      "Element-wise multiplication:\n",
      "\t tensor([ 7., 12., 24., 20.,  5.])\n",
      "\n",
      "Matrix multiplication:\n",
      "\t tensor([[0.8066, 0.6767, 0.9287],\n",
      "        [1.0256, 0.8520, 1.1941],\n",
      "        [1.0919, 0.7372, 1.2397]])\n",
      "\n",
      "Element-wise multiplication:\n",
      "\t tensor([[0.4453, 0.1102, 0.7027],\n",
      "        [0.5399, 0.0355, 0.5864],\n",
      "        [0.1600, 0.3837, 0.1686]])\n",
      "\n",
      "Element-wise addition:\n",
      "\t tensor([[1.3420, 0.6860, 1.6791],\n",
      "        [1.5147, 0.3998, 1.5620],\n",
      "        [0.8632, 1.3108, 0.8646]])\n",
      "\n",
      "\n",
      "Did you get the point? :)\n"
     ]
    }
   ],
   "execution_count": 3
  },
  {
   "cell_type": "markdown",
   "id": "ba99a955",
   "metadata": {
    "heading_collapsed": true,
    "pycharm": {
     "name": "#%% md\n"
    }
   },
   "source": [
    "# Part 2: Gradient-enabled Tensors and Manual Derivatives with Plots"
   ]
  },
  {
   "cell_type": "code",
   "id": "759692b0",
   "metadata": {
    "hidden": true,
    "pycharm": {
     "name": "#%%\n"
    },
    "ExecuteTime": {
     "end_time": "2024-12-29T13:47:12.819606Z",
     "start_time": "2024-12-29T13:47:12.505177Z"
    }
   },
   "source": [
    "# Create a tensor with requires_grad=True to enable automatic differentiation\n",
    "x = torch.tensor([0.], requires_grad=True)\n",
    "\n",
    "# Perform a single iteration and print the Gradient\n",
    "y = (x - 3.) ** 2\n",
    "y.backward()\n",
    "print(\"Tensor x:\", x)\n",
    "print(\"Tensor y:\", y)\n",
    "print(\"Gradient of y w.r.t. x:\", x.grad)\n",
    "\n",
    "# Perform multiple iterations and plot the tensors\n",
    "x_values = []\n",
    "for i in range(50):\n",
    "    y = (x - 3.) ** 2\n",
    "    y.backward()\n",
    "\n",
    "    # Store the y values for plotting\n",
    "    x_values.append(x.item())\n",
    "\n",
    "    # Manually update x to simulate optimization\n",
    "    with torch.no_grad():\n",
    "        x -= 0.1 * x.grad\n",
    "        x.grad.zero_()\n",
    "\n",
    "# Plot the tensor values through iterations\n",
    "plt.plot(x_values, marker='o')\n",
    "plt.xlabel('Iterations')\n",
    "plt.ylabel('Tensor Value')\n",
    "plt.title('Tensor Value Progression')\n",
    "plt.show()"
   ],
   "outputs": [
    {
     "name": "stdout",
     "output_type": "stream",
     "text": [
      "Tensor x: tensor([0.], requires_grad=True)\n",
      "Tensor y: tensor([9.], grad_fn=<PowBackward0>)\n",
      "Gradient of y w.r.t. x: tensor([-6.])\n"
     ]
    },
    {
     "data": {
      "text/plain": [
       "<Figure size 640x480 with 1 Axes>"
      ],
      "image/png": "[encoded data removed]"
     },
     "metadata": {},
     "output_type": "display_data"
    }
   ],
   "execution_count": 4
  },
  {
   "cell_type": "markdown",
   "id": "958b067f",
   "metadata": {
    "heading_collapsed": true,
    "pycharm": {
     "name": "#%% md\n"
    }
   },
   "source": [
    "# Part 3: Working with GPU"
   ]
  },
  {
   "cell_type": "code",
   "execution_count": null,
   "id": "7a5cfd1f",
   "metadata": {
    "ExecuteTime": {
     "end_time": "2024-01-28T11:57:10.927609Z",
     "start_time": "2024-01-28T11:57:10.922784Z"
    },
    "hidden": true,
    "pycharm": {
     "name": "#%%\n"
    }
   },
   "outputs": [],
   "source": [
    "# Check if GPU is available\n",
    "device = torch.device(\"cuda\" if torch.cuda.is_available() else \"cpu\")\n",
    "print(\"Using device:\", device)\n",
    "\n",
    "x = torch.arange(10)\n",
    "print(\"Tensor x:\", x)\n",
    "print(\"Tensor x Device (CPU):\", x.device)\n",
    "\n",
    "# Move the model and tensors to GPU if available\n",
    "x.to(device)\n",
    "\n",
    "print(\"Tensor x Device (GPU):\", x.device)"
   ]
  },
  {
   "cell_type": "markdown",
   "id": "19e26299",
   "metadata": {
    "heading_collapsed": true,
    "pycharm": {
     "name": "#%% md\n"
    }
   },
   "source": [
    "# Part 4: Defining a Dataset"
   ]
  },
  {
   "cell_type": "code",
   "execution_count": null,
   "id": "b9278276",
   "metadata": {
    "ExecuteTime": {
     "end_time": "2024-01-28T11:57:11.362030Z",
     "start_time": "2024-01-28T11:57:11.351619Z"
    },
    "code_folding": [],
    "hidden": true,
    "pycharm": {
     "name": "#%%\n"
    }
   },
   "outputs": [],
   "source": [
    "# Create a simple dataset and DataLoader\n",
    "class DummyDataset(torch.utils.data.Dataset):\n",
    "    \"\"\"\n",
    "    Any dataset should inherit from torch.utils.data.Dataset and override the __len__ and __getitem__ methods.\n",
    "    __init__ is optional.\n",
    "    __len__ should return the size of the dataset.\n",
    "    __getitem__ should return a tuple (data, label) for the given index.\n",
    "    \"\"\"\n",
    "\n",
    "    def __init__(self, size=1000):\n",
    "        self.data = torch.rand(size, 2)\n",
    "        self.labels = torch.round(self.data.sum(dim=1)).to(torch.long)\n",
    "\n",
    "    def __len__(self):\n",
    "        return len(self.data)\n",
    "\n",
    "    def __getitem__(self, idx):\n",
    "        return self.data[idx], self.labels[idx]\n"
   ]
  },
  {
   "cell_type": "code",
   "execution_count": null,
   "id": "583fd923",
   "metadata": {
    "ExecuteTime": {
     "end_time": "2024-01-28T11:57:11.564299Z",
     "start_time": "2024-01-28T11:57:11.548814Z"
    },
    "hidden": true,
    "pycharm": {
     "name": "#%%\n"
    }
   },
   "outputs": [],
   "source": [
    "dummy_dataset = DummyDataset(size=100)\n",
    "print(\"First Sample in Dataset\", dummy_dataset[0])\n",
    "print(f\"Length of dataset\", len(dummy_dataset))\n",
    "print('\\n')\n",
    "\n",
    "# loop over the samples in the dataset, in batches of 32\n",
    "dataloader = torch.utils.data.DataLoader(dummy_dataset, # dataset to loop over\n",
    "                                         batch_size=32, # batch size\n",
    "                                         shuffle=True # if true shuffles the examples. Else uses \n",
    "                                        )\n",
    "\n",
    "for inputs, labels in dataloader:\n",
    "    print(inputs.shape, len(labels))\n",
    "    \n",
    "# Last batch might be smaller (it is len(dataset) % batch_size)"
   ]
  },
  {
   "cell_type": "markdown",
   "id": "dd2618f0",
   "metadata": {
    "heading_collapsed": true,
    "pycharm": {
     "name": "#%% md\n"
    }
   },
   "source": [
    "# Part 5: Defining a Linear Model"
   ]
  },
  {
   "cell_type": "code",
   "execution_count": null,
   "id": "332c16e3",
   "metadata": {
    "ExecuteTime": {
     "end_time": "2024-01-28T11:57:12.010072Z",
     "start_time": "2024-01-28T11:57:12.003427Z"
    },
    "hidden": true,
    "pycharm": {
     "name": "#%%\n"
    }
   },
   "outputs": [],
   "source": [
    "class SimpleLinearModel(nn.Module):\n",
    "    def __init__(self, in_ch=2, out_ch=1):\n",
    "        super(SimpleLinearModel, self).__init__()\n",
    "        self.linear = nn.Linear(in_features=in_ch, out_features=out_ch)  # linear optimizable operation\n",
    "\n",
    "    def forward(self, x):\n",
    "        return self.linear(x)\n",
    "\n"
   ]
  },
  {
   "cell_type": "code",
   "execution_count": null,
   "id": "3e008110",
   "metadata": {
    "ExecuteTime": {
     "end_time": "2024-01-28T11:57:12.221728Z",
     "start_time": "2024-01-28T11:57:12.208142Z"
    },
    "hidden": true,
    "pycharm": {
     "name": "#%%\n"
    }
   },
   "outputs": [],
   "source": [
    "# Define the linear model\n",
    "model = SimpleLinearModel()\n",
    "\n",
    "# YOU SHOULD NOT REPLACE A MODELS PARAMETERS MANUALLY IN PRACTICE! \n",
    "# This is just for the purpose of this tutorial\n",
    "\n",
    "# Switch the parameters to an identity matrix\n",
    "identity_matrix = torch.eye(2)\n",
    "model.linear.weight.data = identity_matrix\n",
    "model.linear.bias.data.zero_()\n",
    "\n",
    "# Multiply by some vector\n",
    "input_vector = torch.tensor([2.0, 3.0])  # Example input vector\n",
    "result = model(input_vector)\n",
    "\n",
    "# Display the results\n",
    "print(\"Original vector:\", input_vector)\n",
    "print(\"Result after multiplying by the identity matrix:\", result.detach().numpy())\n",
    "# results should be the same"
   ]
  },
  {
   "cell_type": "markdown",
   "id": "14592abc",
   "metadata": {
    "pycharm": {
     "name": "#%% md\n"
    }
   },
   "source": [
    "# Part 6: Optimizers (Automatic SGD)"
   ]
  },
  {
   "cell_type": "code",
   "execution_count": null,
   "id": "76db7777",
   "metadata": {
    "ExecuteTime": {
     "end_time": "2024-01-28T11:57:12.897741Z",
     "start_time": "2024-01-28T11:57:12.815166Z"
    },
    "pycharm": {
     "name": "#%%\n"
    }
   },
   "outputs": [],
   "source": [
    "\n",
    "# Create a tensor with requires_grad=True to enable automatic differentiation\n",
    "x = torch.tensor([0.0], requires_grad=True)\n",
    "\n",
    "# Define an optimizer (e.g., SGD) and set the learning rate\n",
    "optimizer = torch.optim.SGD([x], lr=0.1)\n",
    "\n",
    "# Define a learning rate scheduler (OPTIONAL)\n",
    "lr_scheduler = torch.optim.lr_scheduler.StepLR(optimizer, \n",
    "                                               step_size=15, # rate of decay\n",
    "                                               gamma=0.3 # how much to decay the learning rate\n",
    "                                              )\n",
    "\n",
    "# Perform multiple iterations and plot the tensors\n",
    "x_values = []\n",
    "\n",
    "for i in range(50):\n",
    "    y = (x - 3.) ** 2\n",
    "    y.backward()\n",
    "    x_values.append(x.item())\n",
    "\n",
    "    optimizer.step() # Use the optimizer to update x\n",
    "    optimizer.zero_grad() # Manually zero the gradient after updating\n",
    "    lr_scheduler.step()\n",
    "\n",
    "# Plot the tensor values through iterations\n",
    "plt.plot(x_values, marker='o')\n",
    "plt.xlabel('Iterations')\n",
    "plt.ylabel('Tensor Value')\n",
    "plt.title('Tensor Value Progression')\n",
    "plt.show()\n"
   ]
  },
  {
   "cell_type": "markdown",
   "id": "82252337",
   "metadata": {
    "pycharm": {
     "name": "#%% md\n"
    }
   },
   "source": [
    "# Part 7: Putting it all together - Full Optimization Loop"
   ]
  },
  {
   "cell_type": "code",
   "execution_count": null,
   "id": "c2730347",
   "metadata": {
    "ExecuteTime": {
     "end_time": "2024-01-28T11:57:15.036440Z",
     "start_time": "2024-01-28T11:57:13.534701Z"
    },
    "pycharm": {
     "name": "#%%\n"
    },
    "scrolled": true
   },
   "outputs": [],
   "source": [
    "# Instantiate the dataset and DataLoader\n",
    "dummy_dataset = DummyDataset(size=3000)\n",
    "test_dataset = DummyDataset(size=20)\n",
    "\n",
    "n_classes = len(torch.unique(dummy_dataset.labels))\n",
    "\n",
    "dataloader = torch.utils.data.DataLoader(dummy_dataset, batch_size=32, shuffle=True)\n",
    "test_loader = torch.utils.data.DataLoader(test_dataset, batch_size=32, shuffle=False)\n",
    "\n",
    "# Instantiate the model, loss function, and optimizer\n",
    "model = SimpleLinearModel(in_ch=2, out_ch=n_classes)\n",
    "model.to(device)\n",
    "criterion = nn.CrossEntropyLoss()\n",
    "optimizer = optim.SGD(model.parameters(), lr=0.001)\n",
    "lr_scheduler = torch.optim.lr_scheduler.StepLR(optimizer, step_size=15, gamma=0.3)\n",
    "\n",
    "# Train the model for a few epochs with GPU acceleration\n",
    "num_epochs = 100\n",
    "ep_loss_values = []\n",
    "\n",
    "for epoch in range(num_epochs):\n",
    "    loss_values = []\n",
    "    ep_correct_preds = 0.\n",
    "    model.train()  # set the model to training mode\n",
    "    for inputs, labels in dataloader:\n",
    "        inputs, labels = inputs.to(device), labels.to(device)\n",
    "        optimizer.zero_grad()\n",
    "        outputs = model(inputs)\n",
    "        loss = criterion(outputs.squeeze(), labels)\n",
    "        loss.backward()\n",
    "        optimizer.step()\n",
    "\n",
    "        # Store the loss values for plotting\n",
    "        loss_values.append(loss.item())\n",
    "        ep_correct_preds += torch.sum(torch.argmax(outputs, dim=1) == labels).item()\n",
    "\n",
    "    lr_scheduler.step()\n",
    "\n",
    "    mean_loss = np.mean(loss_values)\n",
    "    ep_accuracy = ep_correct_preds / len(dummy_dataset)\n",
    "    ep_loss_values.append(mean_loss)\n",
    "\n",
    "    print(f'Epoch [{epoch + 1}/{num_epochs}], Loss: {mean_loss.item():.4f}, Accuracy: {ep_accuracy:.2f}')\n",
    "\n",
    "# Plot the loss values through epochs\n",
    "plt.plot(ep_loss_values, marker='o')\n",
    "plt.xlabel('Epochs')\n",
    "plt.ylabel('Loss Value')\n",
    "plt.title('Training Loss Progression')\n",
    "plt.show()\n",
    "\n",
    "# Evaluate the model on the test set\n",
    "model.eval()  # set the model to evaluation mode\n",
    "correct_predictions = 0.\n",
    "for inputs, labels in test_loader:\n",
    "    inputs, labels = inputs.to(device), labels.to(device)\n",
    "    outputs = model(inputs)\n",
    "    outputs = nn.functional.softmax(outputs, dim=1)\n",
    "    _, predicted = torch.max(outputs, dim=1)\n",
    "    correct_predictions += torch.sum(predicted == labels).item()\n",
    "\n",
    "print(f'Test Accuracy: {correct_predictions / len(test_dataset):.2f}')"
   ]
  },
  {
   "cell_type": "markdown",
   "id": "7b2dfbf3",
   "metadata": {
    "ExecuteTime": {
     "end_time": "2024-01-28T11:36:11.104126Z",
     "start_time": "2024-01-28T11:36:11.012453Z"
    },
    "pycharm": {
     "name": "#%% md\n"
    }
   },
   "source": [
    "# Part 8: Saving and Loading Models and accessing model parameters"
   ]
  },
  {
   "cell_type": "code",
   "execution_count": null,
   "id": "282a9adf",
   "metadata": {
    "ExecuteTime": {
     "end_time": "2024-01-28T11:57:29.945379Z",
     "start_time": "2024-01-28T11:57:29.929332Z"
    },
    "pycharm": {
     "name": "#%%\n"
    }
   },
   "outputs": [],
   "source": [
    "# save model\n",
    "torch.save(model.state_dict(), 'model.pt')\n",
    "\n",
    "# to load model- i) create an instance of the model ii) load the state dict\n",
    "loaded_model = SimpleLinearModel(in_ch=2, out_ch=n_classes)\n",
    "loaded_model.load_state_dict(torch.load('model.pt'))\n",
    "\n",
    "# access the model parameters and check their all close\n",
    "model_weights = model.linear.weight.data\n",
    "loaded_model_weights = loaded_model.linear.weight.data\n",
    "print(\"Is loaded model same as original model?\", torch.allclose(model_weights, loaded_model_weights))"
   ]
  },
  {
   "cell_type": "code",
   "execution_count": null,
   "id": "54321d96",
   "metadata": {
    "pycharm": {
     "name": "#%%\n"
    }
   },
   "outputs": [],
   "source": []
  }
 ],
 "metadata": {
  "kernelspec": {
   "display_name": "Python 3 (ipykernel)",
   "language": "python",
   "name": "python3"
  },
  "language_info": {
   "codemirror_mode": {
    "name": "ipython",
    "version": 3
   },
   "file_extension": ".py",
   "mimetype": "text/x-python",
   "name": "python",
   "nbconvert_exporter": "python",
   "pygments_lexer": "ipython3",
   "version": "3.9.15"
  }
 },
 "nbformat": 4,
 "nbformat_minor": 5
}
