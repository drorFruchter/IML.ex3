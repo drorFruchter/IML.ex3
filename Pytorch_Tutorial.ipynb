{
 "cells": [
  {
   "cell_type": "code",
   "execution_count": null,
   "id": "7f1e4125",
   "metadata": {
    "ExecuteTime": {
     "end_time": "2024-01-28T11:57:10.232690Z",
     "start_time": "2024-01-28T11:57:09.300413Z"
    },
    "pycharm": {
     "name": "#%%\n"
    }
   },
   "outputs": [],
   "source": [
    "import numpy as np\n",
    "import torch\n",
    "from torch import nn\n",
    "from torch import optim\n",
    "import matplotlib.pyplot as plt"
   ]
  },
  {
   "cell_type": "markdown",
   "id": "0a751fad",
   "metadata": {
    "heading_collapsed": true,
    "pycharm": {
     "name": "#%% md\n"
    }
   },
   "source": [
    "# Part 0: Seed"
   ]
  },
  {
   "cell_type": "code",
   "execution_count": null,
   "id": "8d0c0a33",
   "metadata": {
    "ExecuteTime": {
     "end_time": "2024-01-28T11:57:10.238073Z",
     "start_time": "2024-01-28T11:57:10.233638Z"
    },
    "hidden": true,
    "pycharm": {
     "name": "#%%\n"
    }
   },
   "outputs": [],
   "source": [
    "torch.manual_seed(42)"
   ]
  },
  {
   "cell_type": "markdown",
   "id": "5136bf69",
   "metadata": {
    "heading_collapsed": true,
    "pycharm": {
     "name": "#%% md\n"
    }
   },
   "source": [
    "# Part 1: Arrays operations just like NumPy"
   ]
  },
  {
   "cell_type": "code",
   "execution_count": null,
   "id": "44af4f9c",
   "metadata": {
    "ExecuteTime": {
     "end_time": "2024-01-28T11:57:10.249203Z",
     "start_time": "2024-01-28T11:57:10.239367Z"
    },
    "hidden": true,
    "pycharm": {
     "name": "#%%\n"
    }
   },
   "outputs": [],
   "source": [
    "# More examples of array operations\n",
    "tens_1 = torch.arange(1, 6, dtype=torch.float32)\n",
    "tens_2 = torch.randint_like(tens_1, 1, 10)\n",
    "tens_3 = torch.linspace(1, 2, 5, dtype=torch.float32)\n",
    "mat_1 = torch.rand(3, 3)\n",
    "mat_2 = torch.rand(3, 3)\n",
    "\n",
    "# Exponentiation, logarithm, and element-wise square root\n",
    "\n",
    "c = torch.exp(tens_1)\n",
    "d = torch.log(tens_3)\n",
    "e = torch.sqrt(tens_1)\n",
    "e_2 = tens_1 ** 0.5\n",
    "is_close = torch.allclose(e, e_2)\n",
    "f = tens_1 ** 2\n",
    "g = tens_1 + tens_2\n",
    "h = tens_1 * tens_2\n",
    "i = mat_1 @ mat_2  # (matrix multiplication)\n",
    "j = mat_1 * mat_2  # (element-wise multiplication)\n",
    "k = mat_1 + mat_2  # (element-wise addition)\n",
    "\n",
    "print(\"Tensor a:\\n\\t\", tens_1)\n",
    "print(\"Tensor a_1\\n\\t:\", tens_2)\n",
    "print(\"Tensor b:\\n\\t\", tens_3)\n",
    "print(\"Matrix 1:\\n\\t\", mat_1)\n",
    "print(\"Matrix 2:\\n\\t\", mat_2)\n",
    "\n",
    "print(\"\\n\\n\\nExamples:\\n\")\n",
    "print(\"\\nComparison:\\n\\t\", tens_1 > 3)\n",
    "\n",
    "print(\"\\nExponentiation:\\n\\t\", c)\n",
    "print(\"\\nLogarithm:\\n\\t\", d)\n",
    "print(\"\\nSquare root:\\n\\t\", e)\n",
    "print(\"\\nAre the square roots equal?\\n\\t\", is_close)\n",
    "print(\"\\nElement-wise square:\\n\\t\", f)\n",
    "print(\"\\nElement-wise addition:\\n\\t\", g)\n",
    "print(\"\\nElement-wise multiplication:\\n\\t\", h)\n",
    "print(\"\\nMatrix multiplication:\\n\\t\", i)\n",
    "print(\"\\nElement-wise multiplication:\\n\\t\", j)\n",
    "print(\"\\nElement-wise addition:\\n\\t\", k)\n",
    "print(f\"\\n\\nDid you get the point? :)\")"
   ]
  },
  {
   "cell_type": "markdown",
   "id": "ba99a955",
   "metadata": {
    "heading_collapsed": true,
    "pycharm": {
     "name": "#%% md\n"
    }
   },
   "source": [
    "# Part 2: Gradient-enabled Tensors and Manual Derivatives with Plots"
   ]
  },
  {
   "cell_type": "code",
   "execution_count": null,
   "id": "759692b0",
   "metadata": {
    "ExecuteTime": {
     "end_time": "2024-01-28T11:57:10.597928Z",
     "start_time": "2024-01-28T11:57:10.495263Z"
    },
    "hidden": true,
    "pycharm": {
     "name": "#%%\n"
    }
   },
   "outputs": [],
   "source": [
    "# Create a tensor with requires_grad=True to enable automatic differentiation\n",
    "x = torch.tensor([0.], requires_grad=True)\n",
    "\n",
    "# Perform a single iteration and print the Gradient\n",
    "y = (x - 3.) ** 2\n",
    "y.backward()\n",
    "print(\"Tensor x:\", x)\n",
    "print(\"Tensor y:\", y)\n",
    "print(\"Gradient of y w.r.t. x:\", x.grad)\n",
    "\n",
    "# Perform multiple iterations and plot the tensors\n",
    "x_values = []\n",
    "for i in range(50):\n",
    "    y = (x - 3.) ** 2\n",
    "    y.backward()\n",
    "\n",
    "    # Store the y values for plotting\n",
    "    x_values.append(x.item())\n",
    "\n",
    "    # Manually update x to simulate optimization\n",
    "    with torch.no_grad():\n",
    "        x -= 0.1 * x.grad\n",
    "        x.grad.zero_()\n",
    "\n",
    "# Plot the tensor values through iterations\n",
    "plt.plot(x_values, marker='o')\n",
    "plt.xlabel('Iterations')\n",
    "plt.ylabel('Tensor Value')\n",
    "plt.title('Tensor Value Progression')\n",
    "plt.show()"
   ]
  },
  {
   "cell_type": "markdown",
   "id": "958b067f",
   "metadata": {
    "heading_collapsed": true,
    "pycharm": {
     "name": "#%% md\n"
    }
   },
   "source": [
    "# Part 3: Working with GPU"
   ]
  },
  {
   "cell_type": "code",
   "execution_count": null,
   "id": "7a5cfd1f",
   "metadata": {
    "ExecuteTime": {
     "end_time": "2024-01-28T11:57:10.927609Z",
     "start_time": "2024-01-28T11:57:10.922784Z"
    },
    "hidden": true,
    "pycharm": {
     "name": "#%%\n"
    }
   },
   "outputs": [],
   "source": [
    "# Check if GPU is available\n",
    "device = torch.device(\"cuda\" if torch.cuda.is_available() else \"cpu\")\n",
    "print(\"Using device:\", device)\n",
    "\n",
    "x = torch.arange(10)\n",
    "print(\"Tensor x:\", x)\n",
    "print(\"Tensor x Device (CPU):\", x.device)\n",
    "\n",
    "# Move the model and tensors to GPU if available\n",
    "x.to(device)\n",
    "\n",
    "print(\"Tensor x Device (GPU):\", x.device)"
   ]
  },
  {
   "cell_type": "markdown",
   "id": "19e26299",
   "metadata": {
    "heading_collapsed": true,
    "pycharm": {
     "name": "#%% md\n"
    }
   },
   "source": [
    "# Part 4: Defining a Dataset"
   ]
  },
  {
   "cell_type": "code",
   "execution_count": null,
   "id": "b9278276",
   "metadata": {
    "ExecuteTime": {
     "end_time": "2024-01-28T11:57:11.362030Z",
     "start_time": "2024-01-28T11:57:11.351619Z"
    },
    "code_folding": [],
    "hidden": true,
    "pycharm": {
     "name": "#%%\n"
    }
   },
   "outputs": [],
   "source": [
    "# Create a simple dataset and DataLoader\n",
    "class DummyDataset(torch.utils.data.Dataset):\n",
    "    \"\"\"\n",
    "    Any dataset should inherit from torch.utils.data.Dataset and override the __len__ and __getitem__ methods.\n",
    "    __init__ is optional.\n",
    "    __len__ should return the size of the dataset.\n",
    "    __getitem__ should return a tuple (data, label) for the given index.\n",
    "    \"\"\"\n",
    "\n",
    "    def __init__(self, size=1000):\n",
    "        self.data = torch.rand(size, 2)\n",
    "        self.labels = torch.round(self.data.sum(dim=1)).to(torch.long)\n",
    "\n",
    "    def __len__(self):\n",
    "        return len(self.data)\n",
    "\n",
    "    def __getitem__(self, idx):\n",
    "        return self.data[idx], self.labels[idx]\n"
   ]
  },
  {
   "cell_type": "code",
   "execution_count": null,
   "id": "583fd923",
   "metadata": {
    "ExecuteTime": {
     "end_time": "2024-01-28T11:57:11.564299Z",
     "start_time": "2024-01-28T11:57:11.548814Z"
    },
    "hidden": true,
    "pycharm": {
     "name": "#%%\n"
    }
   },
   "outputs": [],
   "source": [
    "dummy_dataset = DummyDataset(size=100)\n",
    "print(\"First Sample in Dataset\", dummy_dataset[0])\n",
    "print(f\"Length of dataset\", len(dummy_dataset))\n",
    "print('\\n')\n",
    "\n",
    "# loop over the samples in the dataset, in batches of 32\n",
    "dataloader = torch.utils.data.DataLoader(dummy_dataset, # dataset to loop over\n",
    "                                         batch_size=32, # batch size\n",
    "                                         shuffle=True # if true shuffles the examples. Else uses \n",
    "                                        )\n",
    "\n",
    "for inputs, labels in dataloader:\n",
    "    print(inputs.shape, len(labels))\n",
    "    \n",
    "# Last batch might be smaller (it is len(dataset) % batch_size)"
   ]
  },
  {
   "cell_type": "markdown",
   "id": "dd2618f0",
   "metadata": {
    "heading_collapsed": true,
    "pycharm": {
     "name": "#%% md\n"
    }
   },
   "source": [
    "# Part 5: Defining a Linear Model"
   ]
  },
  {
   "cell_type": "code",
   "execution_count": null,
   "id": "332c16e3",
   "metadata": {
    "ExecuteTime": {
     "end_time": "2024-01-28T11:57:12.010072Z",
     "start_time": "2024-01-28T11:57:12.003427Z"
    },
    "hidden": true,
    "pycharm": {
     "name": "#%%\n"
    }
   },
   "outputs": [],
   "source": [
    "class SimpleLinearModel(nn.Module):\n",
    "    def __init__(self, in_ch=2, out_ch=1):\n",
    "        super(SimpleLinearModel, self).__init__()\n",
    "        self.linear = nn.Linear(in_features=in_ch, out_features=out_ch)  # linear optimizable operation\n",
    "\n",
    "    def forward(self, x):\n",
    "        return self.linear(x)\n",
    "\n"
   ]
  },
  {
   "cell_type": "code",
   "execution_count": null,
   "id": "3e008110",
   "metadata": {
    "ExecuteTime": {
     "end_time": "2024-01-28T11:57:12.221728Z",
     "start_time": "2024-01-28T11:57:12.208142Z"
    },
    "hidden": true,
    "pycharm": {
     "name": "#%%\n"
    }
   },
   "outputs": [],
   "source": [
    "# Define the linear model\n",
    "model = SimpleLinearModel()\n",
    "\n",
    "# YOU SHOULD NOT REPLACE A MODELS PARAMETERS MANUALLY IN PRACTICE! \n",
    "# This is just for the purpose of this tutorial\n",
    "\n",
    "# Switch the parameters to an identity matrix\n",
    "identity_matrix = torch.eye(2)\n",
    "model.linear.weight.data = identity_matrix\n",
    "model.linear.bias.data.zero_()\n",
    "\n",
    "# Multiply by some vector\n",
    "input_vector = torch.tensor([2.0, 3.0])  # Example input vector\n",
    "result = model(input_vector)\n",
    "\n",
    "# Display the results\n",
    "print(\"Original vector:\", input_vector)\n",
    "print(\"Result after multiplying by the identity matrix:\", result.detach().numpy())\n",
    "# results should be the same"
   ]
  },
  {
   "cell_type": "markdown",
   "id": "14592abc",
   "metadata": {
    "pycharm": {
     "name": "#%% md\n"
    }
   },
   "source": [
    "# Part 6: Optimizers (Automatic SGD)"
   ]
  },
  {
   "cell_type": "code",
   "execution_count": null,
   "id": "76db7777",
   "metadata": {
    "ExecuteTime": {
     "end_time": "2024-01-28T11:57:12.897741Z",
     "start_time": "2024-01-28T11:57:12.815166Z"
    },
    "pycharm": {
     "name": "#%%\n"
    }
   },
   "outputs": [],
   "source": [
    "\n",
    "# Create a tensor with requires_grad=True to enable automatic differentiation\n",
    "x = torch.tensor([0.0], requires_grad=True)\n",
    "\n",
    "# Define an optimizer (e.g., SGD) and set the learning rate\n",
    "optimizer = torch.optim.SGD([x], lr=0.1)\n",
    "\n",
    "# Define a learning rate scheduler (OPTIONAL)\n",
    "lr_scheduler = torch.optim.lr_scheduler.StepLR(optimizer, \n",
    "                                               step_size=15, # rate of decay\n",
    "                                               gamma=0.3 # how much to decay the learning rate\n",
    "                                              )\n",
    "\n",
    "# Perform multiple iterations and plot the tensors\n",
    "x_values = []\n",
    "\n",
    "for i in range(50):\n",
    "    y = (x - 3.) ** 2\n",
    "    y.backward()\n",
    "    x_values.append(x.item())\n",
    "\n",
    "    optimizer.step() # Use the optimizer to update x\n",
    "    optimizer.zero_grad() # Manually zero the gradient after updating\n",
    "    lr_scheduler.step()\n",
    "\n",
    "# Plot the tensor values through iterations\n",
    "plt.plot(x_values, marker='o')\n",
    "plt.xlabel('Iterations')\n",
    "plt.ylabel('Tensor Value')\n",
    "plt.title('Tensor Value Progression')\n",
    "plt.show()\n"
   ]
  },
  {
   "cell_type": "markdown",
   "id": "82252337",
   "metadata": {
    "pycharm": {
     "name": "#%% md\n"
    }
   },
   "source": [
    "# Part 7: Putting it all together - Full Optimization Loop"
   ]
  },
  {
   "cell_type": "code",
   "execution_count": null,
   "id": "c2730347",
   "metadata": {
    "ExecuteTime": {
     "end_time": "2024-01-28T11:57:15.036440Z",
     "start_time": "2024-01-28T11:57:13.534701Z"
    },
    "pycharm": {
     "name": "#%%\n"
    },
    "scrolled": true
   },
   "outputs": [],
   "source": [
    "# Instantiate the dataset and DataLoader\n",
    "dummy_dataset = DummyDataset(size=3000)\n",
    "test_dataset = DummyDataset(size=20)\n",
    "\n",
    "n_classes = len(torch.unique(dummy_dataset.labels))\n",
    "\n",
    "dataloader = torch.utils.data.DataLoader(dummy_dataset, batch_size=32, shuffle=True)\n",
    "test_loader = torch.utils.data.DataLoader(test_dataset, batch_size=32, shuffle=False)\n",
    "\n",
    "# Instantiate the model, loss function, and optimizer\n",
    "model = SimpleLinearModel(in_ch=2, out_ch=n_classes)\n",
    "model.to(device)\n",
    "criterion = nn.CrossEntropyLoss()\n",
    "optimizer = optim.SGD(model.parameters(), lr=0.001)\n",
    "lr_scheduler = torch.optim.lr_scheduler.StepLR(optimizer, step_size=15, gamma=0.3)\n",
    "\n",
    "# Train the model for a few epochs with GPU acceleration\n",
    "num_epochs = 100\n",
    "ep_loss_values = []\n",
    "\n",
    "for epoch in range(num_epochs):\n",
    "    loss_values = []\n",
    "    ep_correct_preds = 0.\n",
    "    model.train()  # set the model to training mode\n",
    "    for inputs, labels in dataloader:\n",
    "        inputs, labels = inputs.to(device), labels.to(device)\n",
    "        optimizer.zero_grad()\n",
    "        outputs = model(inputs)\n",
    "        loss = criterion(outputs.squeeze(), labels)\n",
    "        loss.backward()\n",
    "        optimizer.step()\n",
    "\n",
    "        # Store the loss values for plotting\n",
    "        loss_values.append(loss.item())\n",
    "        ep_correct_preds += torch.sum(torch.argmax(outputs, dim=1) == labels).item()\n",
    "\n",
    "    lr_scheduler.step()\n",
    "\n",
    "    mean_loss = np.mean(loss_values)\n",
    "    ep_accuracy = ep_correct_preds / len(dummy_dataset)\n",
    "    ep_loss_values.append(mean_loss)\n",
    "\n",
    "    print(f'Epoch [{epoch + 1}/{num_epochs}], Loss: {mean_loss.item():.4f}, Accuracy: {ep_accuracy:.2f}')\n",
    "\n",
    "# Plot the loss values through epochs\n",
    "plt.plot(ep_loss_values, marker='o')\n",
    "plt.xlabel('Epochs')\n",
    "plt.ylabel('Loss Value')\n",
    "plt.title('Training Loss Progression')\n",
    "plt.show()\n",
    "\n",
    "# Evaluate the model on the test set\n",
    "model.eval()  # set the model to evaluation mode\n",
    "correct_predictions = 0.\n",
    "for inputs, labels in test_loader:\n",
    "    inputs, labels = inputs.to(device), labels.to(device)\n",
    "    outputs = model(inputs)\n",
    "    outputs = nn.functional.softmax(outputs, dim=1)\n",
    "    _, predicted = torch.max(outputs, dim=1)\n",
    "    correct_predictions += torch.sum(predicted == labels).item()\n",
    "\n",
    "print(f'Test Accuracy: {correct_predictions / len(test_dataset):.2f}')"
   ]
  },
  {
   "cell_type": "markdown",
   "id": "7b2dfbf3",
   "metadata": {
    "ExecuteTime": {
     "end_time": "2024-01-28T11:36:11.104126Z",
     "start_time": "2024-01-28T11:36:11.012453Z"
    },
    "pycharm": {
     "name": "#%% md\n"
    }
   },
   "source": [
    "# Part 8: Saving and Loading Models and accessing model parameters"
   ]
  },
  {
   "cell_type": "code",
   "execution_count": null,
   "id": "282a9adf",
   "metadata": {
    "ExecuteTime": {
     "end_time": "2024-01-28T11:57:29.945379Z",
     "start_time": "2024-01-28T11:57:29.929332Z"
    },
    "pycharm": {
     "name": "#%%\n"
    }
   },
   "outputs": [],
   "source": [
    "# save model\n",
    "torch.save(model.state_dict(), 'model.pt')\n",
    "\n",
    "# to load model- i) create an instance of the model ii) load the state dict\n",
    "loaded_model = SimpleLinearModel(in_ch=2, out_ch=n_classes)\n",
    "loaded_model.load_state_dict(torch.load('model.pt'))\n",
    "\n",
    "# access the model parameters and check their all close\n",
    "model_weights = model.linear.weight.data\n",
    "loaded_model_weights = loaded_model.linear.weight.data\n",
    "print(\"Is loaded model same as original model?\", torch.allclose(model_weights, loaded_model_weights))"
   ]
  },
  {
   "cell_type": "code",
   "execution_count": null,
   "id": "54321d96",
   "metadata": {
    "pycharm": {
     "name": "#%%\n"
    }
   },
   "outputs": [],
   "source": []
  }
 ],
 "metadata": {
  "kernelspec": {
   "display_name": "Python 3 (ipykernel)",
   "language": "python",
   "name": "python3"
  },
  "language_info": {
   "codemirror_mode": {
    "name": "ipython",
    "version": 3
   },
   "file_extension": ".py",
   "mimetype": "text/x-python",
   "name": "python",
   "nbconvert_exporter": "python",
   "pygments_lexer": "ipython3",
   "version": "3.9.15"
  }
 },
 "nbformat": 4,
 "nbformat_minor": 5
}
